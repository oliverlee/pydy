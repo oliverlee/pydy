{
 "metadata": {
  "name": "",
  "signature": "sha256:ae19fff9f517ba34b55e5c6bc570f17794064dda2a94aac4b98f81ae173fcdbb"
 },
 "nbformat": 3,
 "nbformat_minor": 0,
 "worksheets": [
  {
   "cells": [
    {
     "cell_type": "heading",
     "level": 1,
     "metadata": {},
     "source": [
      "TU Delft - Advanced Dynamics\n",
      "Homework 2.2 - Model Plane"
     ]
    },
    {
     "cell_type": "raw",
     "metadata": {},
     "source": [
      "This is an example from homework 2 from the Advanced Dynamics (wb2630-T1) class from Delft University of Technology."
     ]
    },
    {
     "cell_type": "heading",
     "level": 2,
     "metadata": {},
     "source": [
      "Problem Setup"
     ]
    },
    {
     "cell_type": "code",
     "collapsed": false,
     "input": [
      "from IPython.display import display"
     ],
     "language": "python",
     "metadata": {},
     "outputs": [],
     "prompt_number": 7
    },
    {
     "cell_type": "raw",
     "metadata": {},
     "source": [
      "A model plane is suspended from the ceiling of a room by a spring. The spring has a resting length of $l_0$. The attachment point $A$ at the ceiling is the origin of the fixed $XYZ$ coordinate system. The coordinates of the attachment point $P$ on the plane are given as ($p_x$, 0, $p_z$) in the local $xyz$ coordinate system that is fixed to the plane. Assuming that the plane's orientation with respect to the $XYZ$ coordinate system is described by type I Euler angles, with $\\psi=\\pi$, $\\theta=\\pi/3$, and $\\phi=-\\pi/4$, and that the origin of the plane's local coordinate system is at the position $S$, with coordinates $s_X$, $s_Y$, and $s_Z$ in the global $XYZ$ coordinate system, find the potential energy momentarily stored in the spring in function of the given parameters."
     ]
    },
    {
     "cell_type": "heading",
     "level": 2,
     "metadata": {},
     "source": [
      "Calculation of Potential Energy"
     ]
    },
    {
     "cell_type": "raw",
     "metadata": {},
     "source": [
      "After importing necessary functions from the physics.vector and physics.mechanics submodules, we create the symbols necessary to define the problem."
     ]
    },
    {
     "cell_type": "code",
     "collapsed": false,
     "input": [
      "from sympy.physics.vector import ReferenceFrame, Vector\n",
      "from sympy.physics.vector import dot, dynamicsymbols\n",
      "from sympy.physics.mechanics import mprint, msprint\n",
      "from sympy import pi, symbols\n",
      "\n",
      "# define Euler Angle symbols and reference frames\n",
      "ea = dynamicsymbols('\u03c8 \u03b8 \u03c6') # zyx\n",
      "s_i = dynamicsymbols('s_x s_y s_z')\n",
      "p_i = dynamicsymbols('p_x p_y p_z')\n",
      "m, g = symbols('m g')"
     ],
     "language": "python",
     "metadata": {},
     "outputs": [],
     "prompt_number": 26
    },
    {
     "cell_type": "raw",
     "metadata": {},
     "source": [
      "Define A as the inertial reference frame and B as the reference frame of the plane that is obtained from A by a z-y-x Euler rotation."
     ]
    },
    {
     "cell_type": "code",
     "collapsed": true,
     "input": [
      "A = ReferenceFrame('A')\n",
      "B = A.orientnew('B', 'body', ea, 'zyx')"
     ],
     "language": "python",
     "metadata": {},
     "outputs": [],
     "prompt_number": 17
    },
    {
     "cell_type": "raw",
     "metadata": {},
     "source": [
      "The rotation matrix from A to B is:"
     ]
    },
    {
     "cell_type": "code",
     "collapsed": true,
     "input": [
      "# display the rotation matrix C from frame A to frame B\n",
      "mprint(B.dcm(A))"
     ],
     "language": "python",
     "metadata": {},
     "outputs": [
      {
       "output_type": "stream",
       "stream": "stdout",
       "text": [
        "Matrix([\n",
        "[                       cos(\u03b8)*cos(\u03c8),                        sin(\u03c8)*cos(\u03b8),       -sin(\u03b8)],\n",
        "[sin(\u03b8)*sin(\u03c6)*cos(\u03c8) - sin(\u03c8)*cos(\u03c6), sin(\u03b8)*sin(\u03c6)*sin(\u03c8) + cos(\u03c6)*cos(\u03c8), sin(\u03c6)*cos(\u03b8)],\n",
        "[sin(\u03b8)*cos(\u03c6)*cos(\u03c8) + sin(\u03c6)*sin(\u03c8), sin(\u03b8)*sin(\u03c8)*cos(\u03c6) - sin(\u03c6)*cos(\u03c8), cos(\u03b8)*cos(\u03c6)]])\n"
       ]
      }
     ],
     "prompt_number": 18
    },
    {
     "cell_type": "raw",
     "metadata": {},
     "source": [
      "Substituting the Euler angle values given in the problem statement and calculating the Rotation matrix gives:"
     ]
    },
    {
     "cell_type": "code",
     "collapsed": false,
     "input": [
      "vals = [pi, pi/3, -pi/4]\n",
      "ea_dict = dict(zip(ea, vals))\n",
      "\n",
      "R = B.dcm(A).subs(ea_dict)\n",
      "mprint(R)"
     ],
     "language": "python",
     "metadata": {},
     "outputs": [
      {
       "output_type": "stream",
       "stream": "stdout",
       "text": [
        "Matrix([\n",
        "[      -1/2,          0, -sqrt(3)/2],\n",
        "[ sqrt(6)/4, -sqrt(2)/2, -sqrt(2)/4],\n",
        "[-sqrt(6)/4, -sqrt(2)/2,  sqrt(2)/4]])\n"
       ]
      }
     ],
     "prompt_number": 19
    },
    {
     "cell_type": "raw",
     "metadata": {},
     "source": [
      "Now we can define the vector $p$ that goes from the origin of frame A to the attachment point of the plane using a combination of vectors in both reference frames."
     ]
    },
    {
     "cell_type": "code",
     "collapsed": false,
     "input": [
      "p = s_i[0]*A.x + s_i[1]*A.y + s_i[2]*A.z\n",
      "p += p_i[0]*B.x + p_i[2]*B.z\n",
      "mprint(p.express(A).subs(ea_dict))"
     ],
     "language": "python",
     "metadata": {},
     "outputs": [
      {
       "output_type": "stream",
       "stream": "stdout",
       "text": [
        "(-p_x/2 - sqrt(6)*p_z/4 + s_x)*A.x + (-sqrt(2)*p_z/2 + s_y)*A.y + (-sqrt(3)*p_x/2 + sqrt(2)*p_z/4 + s_z)*A.z\n"
       ]
      }
     ],
     "prompt_number": 20
    },
    {
     "cell_type": "markdown",
     "metadata": {},
     "source": [
      "Using the express method, components of vector $p$ can be expressed in terms of a single frame."
     ]
    },
    {
     "cell_type": "code",
     "collapsed": false,
     "input": [
      "mprint(p.express(A))"
     ],
     "language": "python",
     "metadata": {},
     "outputs": [
      {
       "output_type": "stream",
       "stream": "stdout",
       "text": [
        "((sin(\u03b8)*cos(\u03c6)*cos(\u03c8) + sin(\u03c6)*sin(\u03c8))*p_z + p_x*cos(\u03b8)*cos(\u03c8) + s_x)*A.x + ((sin(\u03b8)*sin(\u03c8)*cos(\u03c6) - sin(\u03c6)*cos(\u03c8))*p_z + p_x*sin(\u03c8)*cos(\u03b8) + s_y)*A.y + (-p_x*sin(\u03b8) + p_z*cos(\u03b8)*cos(\u03c6) + s_z)*A.z\n"
       ]
      }
     ],
     "prompt_number": 21
    },
    {
     "cell_type": "raw",
     "metadata": {},
     "source": [
      "However, we care about the magnitude of the vector in order to determine the spring potential energy."
     ]
    },
    {
     "cell_type": "code",
     "collapsed": false,
     "input": [
      "V_spring = p.express(A).subs(ea_dict).magnitude()\n",
      "mprint(V_spring)"
     ],
     "language": "python",
     "metadata": {},
     "outputs": [
      {
       "output_type": "stream",
       "stream": "stdout",
       "text": [
        "sqrt((-sqrt(2)*p_z/2 + s_y)**2 + (-sqrt(3)*p_x/2 + sqrt(2)*p_z/4 + s_z)**2 + (-p_x/2 - sqrt(6)*p_z/4 + s_x)**2)\n"
       ]
      }
     ],
     "prompt_number": 30
    },
    {
     "cell_type": "raw",
     "metadata": {},
     "source": [
      "The total potential energy is the sum of the spring potential energy and the gravitational energy for this system.\n",
      "Note that the z-axis of A points in the same direction as gravity."
     ]
    },
    {
     "cell_type": "code",
     "collapsed": false,
     "input": [
      "V_gravity = -m*g*s_i[2]\n",
      "mprint(V_gravity)"
     ],
     "language": "python",
     "metadata": {},
     "outputs": [
      {
       "output_type": "stream",
       "stream": "stdout",
       "text": [
        "-g*m*s_z\n"
       ]
      }
     ],
     "prompt_number": 28
    },
    {
     "cell_type": "code",
     "collapsed": false,
     "input": [
      "V = V_spring + V_gravity\n",
      "mprint(V)"
     ],
     "language": "python",
     "metadata": {},
     "outputs": [
      {
       "output_type": "stream",
       "stream": "stdout",
       "text": [
        "-g*m*s_z + sqrt((-sqrt(2)*p_z/2 + s_y)**2 + (-sqrt(3)*p_x/2 + sqrt(2)*p_z/4 + s_z)**2 + (-p_x/2 - sqrt(6)*p_z/4 + s_x)**2)\n"
       ]
      }
     ],
     "prompt_number": 31
    }
   ],
   "metadata": {}
  }
 ]
}